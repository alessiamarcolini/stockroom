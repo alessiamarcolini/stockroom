{
 "cells": [
  {
   "cell_type": "markdown",
   "metadata": {},
   "source": [
    "# Alongside Git\n",
    "Stockroom is built to use alongside git. This tutorial will guide you through a typical git workflow that uses stockroom to store data."
   ]
  },
  {
   "cell_type": "markdown",
   "metadata": {},
   "source": [
    "## Setup the repository"
   ]
  },
  {
   "cell_type": "code",
   "execution_count": 3,
   "metadata": {},
   "outputs": [
    {
     "name": "stdout",
     "output_type": "stream",
     "text": [
      "Reinitialized existing Git repository in /home/hhsecond/mypro/stockroom/examples/.git/\n",
      "Hangar Repo already exists at /home/hhsecond/mypro/stockroom/examples. Initializing it as stock repository\n"
     ]
    }
   ],
   "source": [
    "!git init\n",
    "!stock init --name sherin --email a@b.c"
   ]
  },
  {
   "cell_type": "code",
   "execution_count": 4,
   "metadata": {},
   "outputs": [
    {
     "name": "stdout",
     "output_type": "stream",
     "text": [
      "On branch master\n",
      "Changes not staged for commit:\n",
      "  (use \"git add <file>...\" to update what will be committed)\n",
      "  (use \"git checkout -- <file>...\" to discard changes in working directory)\n",
      "\n",
      "\t\u001b[31mmodified:   git-workflow.ipynb\u001b[m\n",
      "\t\u001b[31mmodified:   head.stock\u001b[m\n",
      "\n",
      "Untracked files:\n",
      "  (use \"git add <file>...\" to include in what will be committed)\n",
      "\n",
      "\t\u001b[31m.ipynb_checkpoints/\u001b[m\n",
      "\n",
      "no changes added to commit (use \"git add\" and/or \"git commit -a\")\n"
     ]
    }
   ],
   "source": [
    "!git status"
   ]
  },
  {
   "cell_type": "code",
   "execution_count": 5,
   "metadata": {},
   "outputs": [
    {
     "name": "stdout",
     "output_type": "stream",
     "text": [
      "[master 66b4993] initialized repo\n",
      " 2 files changed, 165 insertions(+), 31 deletions(-)\n"
     ]
    }
   ],
   "source": [
    "!git add .gitignore head.stock git-workflow.ipynb\n",
    "!git commit -m 'initialized repo'"
   ]
  },
  {
   "cell_type": "markdown",
   "metadata": {},
   "source": [
    "## Store Data"
   ]
  },
  {
   "cell_type": "code",
   "execution_count": 1,
   "metadata": {},
   "outputs": [],
   "source": [
    "import numpy as np\n",
    "# Represent each input by an array of its binary digits.\n",
    "def binary_encode(i, num_digits):\n",
    "    return np.array([i >> d & 1 for d in range(num_digits)])\n",
    "\n",
    "# One-hot encode the desired outputs: [number, \"fizz\", \"buzz\", \"fizzbuzz\"]\n",
    "def fizz_buzz_encode(i):\n",
    "    if   i % 15 == 0: out = 3\n",
    "    elif i % 5  == 0: out = 2\n",
    "    elif i % 3  == 0: out = 1\n",
    "    else:             out = 0\n",
    "    return np.array([out])\n",
    "\n",
    "def fizz_buzz_decode(i, prediction):\n",
    "    return [str(i), \"fizz\", \"buzz\", \"fizzbuzz\"][prediction]"
   ]
  },
  {
   "cell_type": "code",
   "execution_count": 2,
   "metadata": {},
   "outputs": [],
   "source": [
    "import stockroom\n",
    "datastore = stockroom.datastore(write=True)"
   ]
  },
  {
   "cell_type": "code",
   "execution_count": 27,
   "metadata": {},
   "outputs": [
    {
     "data": {
      "text/plain": [
       "Hangar ArraysetDataWriter                 \n",
       "    Arrayset Name             : fizzbuzz                \n",
       "    Schema Hash              : 1=917d1bd632e3                \n",
       "    Variable Shape           : False                \n",
       "    (max) Shape              : (10,)                \n",
       "    Datatype                 : <class 'numpy.int64'>                \n",
       "    Named Samples            : True                \n",
       "    Access Mode              : a                \n",
       "    Number of Samples        : 0                \n",
       "    Partial Remote Data Refs : False\n"
      ]
     },
     "execution_count": 27,
     "metadata": {},
     "output_type": "execute_result"
    }
   ],
   "source": [
    "proto = binary_encode(2, 10)\n",
    "datastore.arraysets.init_arrayset('fizzbuzz', prototype=proto)"
   ]
  },
  {
   "cell_type": "code",
   "execution_count": 30,
   "metadata": {},
   "outputs": [
    {
     "data": {
      "text/plain": [
       "Hangar ArraysetDataWriter                 \n",
       "    Arrayset Name             : fizzbuzz_out                \n",
       "    Schema Hash              : 1=27c2ed219ffa                \n",
       "    Variable Shape           : False                \n",
       "    (max) Shape              : (1,)                \n",
       "    Datatype                 : <class 'numpy.int64'>                \n",
       "    Named Samples            : True                \n",
       "    Access Mode              : a                \n",
       "    Number of Samples        : 0                \n",
       "    Partial Remote Data Refs : False\n"
      ]
     },
     "execution_count": 30,
     "metadata": {},
     "output_type": "execute_result"
    }
   ],
   "source": [
    "proto = fizz_buzz_encode(2)\n",
    "datastore.arraysets.init_arrayset('fizzbuzz_out', prototype=proto)"
   ]
  },
  {
   "cell_type": "code",
   "execution_count": 3,
   "metadata": {},
   "outputs": [],
   "source": [
    "datastore.close()"
   ]
  },
  {
   "cell_type": "code",
   "execution_count": 1,
   "metadata": {},
   "outputs": [
    {
     "name": "stdout",
     "output_type": "stream",
     "text": [
      "Commit message:\n",
      "init arraysets\n",
      "Commit Successful. Digest: a=85cf8cfc1a564c3fae9ad29107cf4e273d35f7fe\n"
     ]
    }
   ],
   "source": [
    "!stock commit -m 'init arraysets'"
   ]
  },
  {
   "cell_type": "markdown",
   "metadata": {},
   "source": [
    "## FizzBuzz Model"
   ]
  },
  {
   "cell_type": "code",
   "execution_count": null,
   "metadata": {},
   "outputs": [],
   "source": []
  },
  {
   "cell_type": "code",
   "execution_count": null,
   "metadata": {},
   "outputs": [],
   "source": [
    "import torch\n",
    "model = torch.nn.Sequential(\n",
    "    torch.nn.Linear(10, 100),\n",
    "    torch.nn.ReLU(),\n",
    "    torch.nn.Linear(100, 4))"
   ]
  }
 ],
 "metadata": {
  "kernelspec": {
   "display_name": "Python 3",
   "language": "python",
   "name": "python3"
  },
  "language_info": {
   "codemirror_mode": {
    "name": "ipython",
    "version": 3
   },
   "file_extension": ".py",
   "mimetype": "text/x-python",
   "name": "python",
   "nbconvert_exporter": "python",
   "pygments_lexer": "ipython3",
   "version": "3.7.5"
  }
 },
 "nbformat": 4,
 "nbformat_minor": 4
}
