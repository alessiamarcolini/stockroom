{
 "cells": [
  {
   "cell_type": "markdown",
   "metadata": {},
   "source": [
    "# Alongside Git\n",
    "Stockroom is built to use alongside git. This tutorial will guide you through a typical git workflow that uses stockroom to\n",
    "- Store data\n",
    "- Use that data to train a network in PyTorch\n",
    "- Version the model as we go\n",
    "- Tag the hyper parameters in different experiments\n",
    "\n",
    "For this tutorial, we use a pretrained PyTorch network to classify cats and dogs. We have divided the whole tutorial into 7 stages.\n",
    "1. Setup the repository\n",
    "2. Download some data and store it in stockroom\n",
    "3. Download the pretrained model and save it in stockroom\n",
    "4. Train the network and save the model + hyper parameters\n",
    "5. Download more data if the accuracy is less\n",
    "6. Train the network again with new data. Save the new network & hyper parameters\n",
    "7. Fine tune the hyper parameters"
   ]
  },
  {
   "cell_type": "markdown",
   "metadata": {},
   "source": [
    "## 1. Setup the repository\n",
    "In a typical software development project, we'll have a git repository ready. Let's make that first.\n",
    "\n",
    "#### Initialize git"
   ]
  },
  {
   "cell_type": "code",
   "execution_count": 5,
   "metadata": {},
   "outputs": [
    {
     "name": "stdout",
     "output_type": "stream",
     "text": [
      "Reinitialized existing Git repository in /home/hhsecond/mypro/stockroom/examples/.git/\n"
     ]
    }
   ],
   "source": [
    "!git init"
   ]
  },
  {
   "cell_type": "markdown",
   "metadata": {},
   "source": [
    "#### Initialize stock\n",
    "We need to initialize stock repository at the same location. A stock initialization is essentially a hangar initialization (if hangar repo doesn't exist at the given location) and creating `head.stock` file"
   ]
  },
  {
   "cell_type": "code",
   "execution_count": 6,
   "metadata": {},
   "outputs": [
    {
     "name": "stdout",
     "output_type": "stream",
     "text": [
      "Hangar Repo initialized at: /home/hhsecond/mypro/stockroom/examples/.hangar\n"
     ]
    }
   ],
   "source": [
    "!stock init --name sherin --email a@b.c"
   ]
  },
  {
   "cell_type": "markdown",
   "metadata": {},
   "source": [
    "#### Initial git commit\n",
    "Now we need to make the first commit. Remember, we use this notebook for controlling this workflow tutorial. Versioning the notebook might not be a good idea in this case since each checkout will change the status of our notebook which hinder us from moving forward. But in a typical project workflow you require you to version everything"
   ]
  },
  {
   "cell_type": "code",
   "execution_count": 7,
   "metadata": {},
   "outputs": [
    {
     "name": "stdout",
     "output_type": "stream",
     "text": [
      "On branch master\n",
      "Untracked files:\n",
      "  (use \"git add <file>...\" to include in what will be committed)\n",
      "\n",
      "\t\u001b[31m.ipynb_checkpoints/\u001b[m\n",
      "\t\u001b[31mdownloads/\u001b[m\n",
      "\t\u001b[31mrequirements.txt\u001b[m\n",
      "\t\u001b[31mwith-git.ipynb\u001b[m\n",
      "\n",
      "nothing added to commit but untracked files present (use \"git add\" to track)\n"
     ]
    }
   ],
   "source": [
    "!git status"
   ]
  },
  {
   "cell_type": "code",
   "execution_count": 10,
   "metadata": {},
   "outputs": [
    {
     "name": "stdout",
     "output_type": "stream",
     "text": [
      "[master 66b4aee] initialized repo\n",
      " 1 file changed, 1 insertion(+), 2 deletions(-)\n"
     ]
    }
   ],
   "source": [
    "!echo \"\\ndownloads\" > .gitignore\n",
    "!git add .gitignore head.stock\n",
    "!git commit -m 'initialized repo'"
   ]
  },
  {
   "cell_type": "markdown",
   "metadata": {},
   "source": [
    "## 2. Download & Store Data\n",
    "As you know, we'll be building a dog vs cat classifier. Hence we need a lot of images of dogs and cats. Let's use a readily available package (`google_images_download`) to download images from google and store it in hangar\n",
    "\n",
    "#### Download images\n",
    "This might throw error on some attempts but may be keep trying few times"
   ]
  },
  {
   "cell_type": "code",
   "execution_count": 13,
   "metadata": {},
   "outputs": [
    {
     "name": "stdout",
     "output_type": "stream",
     "text": [
      "\n",
      "Item no.: 1 --> Item name = cat\n",
      "Evaluating...\n",
      "Starting Download...\n",
      "\n",
      "\n",
      "Unfortunately all 100 could not be downloaded because some images were not downloadable. 0 is all we got for this search filter!\n",
      "\n",
      "Errors: 0\n",
      "\n",
      "\n",
      "Item no.: 1 --> Item name = dog\n",
      "Evaluating...\n",
      "Starting Download...\n",
      "\n",
      "\n",
      "Unfortunately all 100 could not be downloaded because some images were not downloadable. 0 is all we got for this search filter!\n",
      "\n",
      "Errors: 0\n",
      "\n"
     ]
    },
    {
     "data": {
      "text/plain": [
       "({'dog': []}, 0)"
      ]
     },
     "execution_count": 13,
     "metadata": {},
     "output_type": "execute_result"
    }
   ],
   "source": [
    "from google_images_download import google_images_download\n",
    "downloader = google_images_download.googleimagesdownload()\n",
    "arguments = {\n",
    "    \"format\": \"jpg\",\n",
    "    \"limit\":100,\n",
    "    \"print_urls\":True,\n",
    "    \"size\": \"medium\",\n",
    "    \"aspect_ratio\": \"panoramic\"\n",
    "}\n",
    "\n",
    "# downloading cat\n",
    "arguments['keywords'] = 'cat'\n",
    "downloader.download(arguments)\n",
    "\n",
    "\n",
    "# downloading dog\n",
    "arguments['keywords'] = 'dog'\n",
    "downloader.download(arguments)"
   ]
  },
  {
   "cell_type": "markdown",
   "metadata": {},
   "source": [
    "#### Store to StockRoom\n",
    "We need hangar columns ready for stockroom to store data there. "
   ]
  },
  {
   "cell_type": "code",
   "execution_count": 40,
   "metadata": {},
   "outputs": [],
   "source": [
    "from pathlib import Path\n",
    "from PIL import Image\n",
    "import numpy as np\n",
    "\n",
    "newshape = (240, 240)\n",
    "\n",
    "for file in Path('downloads/cat').iterdir():\n",
    "    try:\n",
    "        data = np.array(Image.open(file).resize((240, 240)))\n",
    "    except Exception as e:\n",
    "        pass"
   ]
  },
  {
   "cell_type": "code",
   "execution_count": 39,
   "metadata": {},
   "outputs": [
    {
     "data": {
      "text/plain": [
       "array([[[132, 131, 127],\n",
       "        [120, 115, 112],\n",
       "        [111, 112, 107],\n",
       "        ...,\n",
       "        [241, 240, 238],\n",
       "        [243, 242, 240],\n",
       "        [242, 240, 241]],\n",
       "\n",
       "       [[134, 133, 129],\n",
       "        [123, 120, 115],\n",
       "        [114, 113, 108],\n",
       "        ...,\n",
       "        [241, 240, 238],\n",
       "        [243, 242, 240],\n",
       "        [242, 241, 239]],\n",
       "\n",
       "       [[136, 137, 132],\n",
       "        [131, 130, 125],\n",
       "        [122, 119, 114],\n",
       "        ...,\n",
       "        [241, 240, 238],\n",
       "        [242, 241, 239],\n",
       "        [241, 240, 238]],\n",
       "\n",
       "       ...,\n",
       "\n",
       "       [[225, 203, 179],\n",
       "        [225, 204, 177],\n",
       "        [226, 202, 176],\n",
       "        ...,\n",
       "        [245, 244, 242],\n",
       "        [247, 246, 244],\n",
       "        [246, 245, 243]],\n",
       "\n",
       "       [[225, 203, 179],\n",
       "        [226, 205, 178],\n",
       "        [226, 202, 176],\n",
       "        ...,\n",
       "        [245, 244, 242],\n",
       "        [246, 245, 243],\n",
       "        [247, 246, 244]],\n",
       "\n",
       "       [[225, 203, 179],\n",
       "        [226, 205, 178],\n",
       "        [226, 202, 176],\n",
       "        ...,\n",
       "        [245, 244, 242],\n",
       "        [246, 245, 243],\n",
       "        [246, 245, 243]]], dtype=uint8)"
      ]
     },
     "execution_count": 39,
     "metadata": {},
     "output_type": "execute_result"
    }
   ],
   "source": [
    "data"
   ]
  },
  {
   "cell_type": "code",
   "execution_count": null,
   "metadata": {},
   "outputs": [],
   "source": []
  }
 ],
 "metadata": {
  "kernelspec": {
   "display_name": "Python 3",
   "language": "python",
   "name": "python3"
  },
  "language_info": {
   "codemirror_mode": {
    "name": "ipython",
    "version": 3
   },
   "file_extension": ".py",
   "mimetype": "text/x-python",
   "name": "python",
   "nbconvert_exporter": "python",
   "pygments_lexer": "ipython3",
   "version": "3.7.5"
  }
 },
 "nbformat": 4,
 "nbformat_minor": 4
}
